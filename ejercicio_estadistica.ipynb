{
 "cells": [
  {
   "cell_type": "markdown",
   "metadata": {},
   "source": [
    "## Acá el presente scrip es un ejercicio para la manipulación estadística de data..."
   ]
  },
  {
   "cell_type": "code",
   "execution_count": 1,
   "metadata": {
    "collapsed": true,
    "deletable": true,
    "editable": true
   },
   "outputs": [],
   "source": [
    "import numpy as np\n",
    "import pandas as pd\n",
    "from scipy import stats\n",
    "import matplotlib.pyplot as plt"
   ]
  },
  {
   "cell_type": "markdown",
   "metadata": {},
   "source": [
    "Primero vamos a generar unos datos ficticios, que servirán de pruebas para futuros ejercicios.."
   ]
  },
  {
   "cell_type": "code",
   "execution_count": 2,
   "metadata": {
    "collapsed": true,
    "deletable": true,
    "editable": true
   },
   "outputs": [],
   "source": [
    "data=np.array([1,4,5,5,2,1,3,4,5,2,3,4,2,4,3,2,4,2,3,4,5,3,2,5,2,3,1,5,4,3,5,4,3,4,5,4,3,2,4,3,2,4,2,3,4,3,2,4,3,2,3,4,3,2,5,2,3,5,4,2,3,5])\n",
    "#data=np.array([1.,2.,4.,5.,2.,1.,3.,4.,6.,6.,3.,2.,1.,1.,2.,3.,4.,5.,6.,4.,3.,2.,2.,4.,5.,4.,3.,3.,5.,4.,3.,2.,3.,4.,2.,2.,5.,5.,5.,3.,2.,3.,4.,4.,4.,3.,5.])"
   ]
  },
  {
   "cell_type": "markdown",
   "metadata": {},
   "source": [
    "Veamos algunos descriptivos..."
   ]
  },
  {
   "cell_type": "code",
   "execution_count": 3,
   "metadata": {
    "collapsed": false,
    "deletable": true,
    "editable": true
   },
   "outputs": [
    {
     "name": "stdout",
     "output_type": "stream",
     "text": [
      "(Numero de datos) N =  62\n",
      "media =  3.27419354839\n",
      "mediana =  3.0\n",
      "max =  5\n",
      "min =  1\n",
      "Varianza =  1.32804370447\n",
      "Desviacion Estandar =  1.15240778567\n",
      "Coeficiente de Variacion, coef_var=(desvicacion estandar)/(media) =  0.351966909909\n"
     ]
    }
   ],
   "source": [
    "print '(Numero de datos) N = ', np.count_nonzero(data)\n",
    "print 'media = ', np.mean(data)\n",
    "print 'mediana = ', np.median(data)\n",
    "print 'max = ', np.max(data)\n",
    "print 'min = ', np.min(data)\n",
    "print 'Varianza = ', np.var(data)\n",
    "print 'Desviacion Estandar = ', np.std(data)\n",
    "print 'Coeficiente de Variacion, coef_var=(desvicacion estandar)/(media) = ', np.std(data)/np.mean(data)"
   ]
  },
  {
   "cell_type": "code",
   "execution_count": 4,
   "metadata": {
    "collapsed": false
   },
   "outputs": [
    {
     "name": "stdout",
     "output_type": "stream",
     "text": [
      "DescribeResult(nobs=62, minmax=(1, 5), mean=3.274193548387097, variance=1.3498149127445798, skewness=-0.04224279543955434, kurtosis=-0.9706940536682649)\n"
     ]
    }
   ],
   "source": [
    "print stats.describe(data)"
   ]
  },
  {
   "cell_type": "markdown",
   "metadata": {},
   "source": [
    "Vamos a generar ahora una tabla de distribución de frecuencias..."
   ]
  },
  {
   "cell_type": "code",
   "execution_count": 5,
   "metadata": {
    "collapsed": false,
    "deletable": true,
    "editable": true
   },
   "outputs": [
    {
     "name": "stdout",
     "output_type": "stream",
     "text": [
      "[1 2 3 4 5]\n"
     ]
    }
   ],
   "source": [
    "unicos=np.unique(data)\n",
    "print unicos"
   ]
  },
  {
   "cell_type": "markdown",
   "metadata": {},
   "source": [
    "Ahora generemos las frecuencias de cada dato.."
   ]
  },
  {
   "cell_type": "code",
   "execution_count": 6,
   "metadata": {
    "collapsed": false,
    "deletable": true,
    "editable": true
   },
   "outputs": [
    {
     "name": "stdout",
     "output_type": "stream",
     "text": [
      "[  3.  15.  17.  16.  11.]\n"
     ]
    }
   ],
   "source": [
    "frec = []\n",
    "for i in unicos:\n",
    "    frec.append(np.sum(data==i))\n",
    "frec=np.array(frec,float)\n",
    "print frec"
   ]
  },
  {
   "cell_type": "markdown",
   "metadata": {
    "collapsed": false,
    "deletable": true,
    "editable": true
   },
   "source": [
    "Ahora generemos las mismas medidas de descriptivos pero a partir de principios.."
   ]
  },
  {
   "cell_type": "code",
   "execution_count": 7,
   "metadata": {
    "collapsed": false,
    "deletable": true,
    "editable": true
   },
   "outputs": [
    {
     "name": "stdout",
     "output_type": "stream",
     "text": [
      "Frec_Relativas =  [ 0.0483871   0.24193548  0.27419355  0.25806452  0.17741935]\n",
      "Frec_Relativas_Porcentuales =  [  4.83870968  24.19354839  27.41935484  25.80645161  17.74193548]\n"
     ]
    }
   ],
   "source": [
    "frec_rel=frec/np.count_nonzero(data) # FRECUENCIAS RELATIVAS\n",
    "frec_rel_por=frec_rel*100 # FRECUENCIAS RELATIVAS PORCENTUALES\n",
    "print 'Frec_Relativas = ', frec_rel\n",
    "print 'Frec_Relativas_Porcentuales = ', frec_rel_por"
   ]
  },
  {
   "cell_type": "markdown",
   "metadata": {},
   "source": [
    "Para el error medio recordemos que $Error_{medio}=\\sum_{i=1}\\frac{|x_i-\\bar x|f_i}{N}$, mientras que la desviación estándar es $Error_{standar}=\\sigma=\\sqrt{\\sum_{i=1}\\frac{(x_i-\\bar x)^2f_i}{N}}$ y la varianza $Varianza=s^2=\\sum_{i=1}\\frac{(x_i-\\bar x)^2f_i}{N}$. Además los coeficientes de Fisher y Curtosis están dados por: $Fisher=g=\\frac{\\sum_{i=1}\\frac{(x_i-\\bar x)^3f_i}{N}}{\\left[\\sum_{i=1}\\frac{(x_i-\\bar x)^2f_i}{N}\\right]^{3/2}}$ y $Curtosis=k=\\frac{\\sum_{i=1}\\frac{(x_i-\\bar x)^4f_i}{N}}{\\left[\\sum_{i=1}\\frac{(x_i-\\bar x)^2f_i}{N}\\right]^2}-3$"
   ]
  },
  {
   "cell_type": "code",
   "execution_count": 8,
   "metadata": {
    "collapsed": false,
    "deletable": true,
    "editable": true
   },
   "outputs": [
    {
     "name": "stdout",
     "output_type": "stream",
     "text": [
      "Error medio =  0.986992715921\n",
      "Varianza =  1.32804370447\n",
      "Desviacion estandar =  1.15240778567\n",
      "Coeficiente de Fisher =  -0.0422427954396\n",
      "Coeficiente de Curtosis =  -0.970694053668\n"
     ]
    }
   ],
   "source": [
    "Error_medio=np.sum(np.abs(unicos-np.mean(data))*frec/np.count_nonzero(data))\n",
    "Varianza=np.sum((unicos-np.mean(data))**2*frec/np.count_nonzero(data))\n",
    "Desviacion_estandar=np.sqrt(Varianza)\n",
    "Fisher=np.sum((unicos-np.mean(data))**3*frec/np.count_nonzero(data))/(Desviacion_estandar**3)\n",
    "Curtosis=np.sum((unicos-np.mean(data))**4*frec/np.count_nonzero(data))/(Desviacion_estandar**4)-3\n",
    "print 'Error medio = ', Error_medio\n",
    "print 'Varianza = ', Varianza\n",
    "print 'Desviacion estandar = ', Desviacion_estandar\n",
    "print 'Coeficiente de Fisher = ', Fisher\n",
    "print 'Coeficiente de Curtosis = ', Curtosis"
   ]
  },
  {
   "cell_type": "markdown",
   "metadata": {},
   "source": [
    "# Vea que los resultados son iguales a los anteriores mostrados..."
   ]
  },
  {
   "cell_type": "markdown",
   "metadata": {},
   "source": [
    "Vamos a crear ahora la tabla de distribución de frecuencias para visualizar todo en conjunto..."
   ]
  },
  {
   "cell_type": "code",
   "execution_count": 9,
   "metadata": {
    "collapsed": false,
    "deletable": true,
    "editable": true
   },
   "outputs": [],
   "source": [
    "data_org=np.c_[unicos,frec,frec_rel,frec_rel_por] # Creamos una data con todo..."
   ]
  },
  {
   "cell_type": "code",
   "execution_count": 10,
   "metadata": {
    "collapsed": false,
    "deletable": true,
    "editable": true
   },
   "outputs": [
    {
     "name": "stdout",
     "output_type": "stream",
     "text": [
      "[[  1.           3.           0.0483871    4.83870968]\n",
      " [  2.          15.           0.24193548  24.19354839]\n",
      " [  3.          17.           0.27419355  27.41935484]\n",
      " [  4.          16.           0.25806452  25.80645161]\n",
      " [  5.          11.           0.17741935  17.74193548]]\n"
     ]
    }
   ],
   "source": [
    "print data_org"
   ]
  },
  {
   "cell_type": "code",
   "execution_count": 11,
   "metadata": {
    "collapsed": false,
    "deletable": true,
    "editable": true
   },
   "outputs": [],
   "source": [
    "np.savetxt('data_org', data_org)"
   ]
  },
  {
   "cell_type": "code",
   "execution_count": 12,
   "metadata": {
    "collapsed": false,
    "deletable": true,
    "editable": true
   },
   "outputs": [
    {
     "name": "stdout",
     "output_type": "stream",
     "text": [
      "DAT320014-0014-00000527176.lst.bz2\tlibraries\r\n",
      "data_org\t\t\t\tmasterclass\r\n",
      "Descargas\t\t\t\tMúsica\r\n",
      "Documentos\t\t\t\tMuTe\r\n",
      "Downloads\t\t\t\tPlantillas\r\n",
      "Dropbox\t\t\t\t\tPúblico\r\n",
      "ejercicio_estadistica.ipynb\t\tR\r\n",
      "Escaramujo\t\t\t\tresumenVIICRA17.odt\r\n",
      "Escritorio\t\t\t\tresumenVIICRA17.pdf\r\n",
      "EstanciaUIS\t\t\t\tsist_solar.py\r\n",
      "examples.desktop\t\t\tsketchbook\r\n",
      "google-chrome-stable_current_amd64.deb\tUntitled1-Copy1.ipynb\r\n",
      "Imágenes\t\t\t\tUntitled1.ipynb\r\n",
      "irc\t\t\t\t\tUntitled.ipynb\r\n",
      "letter_of_intent_VIICRA17.odt\t\tVídeos\r\n",
      "letter_of_intent_VIICRA17.pdf\t\twcds.jpg\r\n"
     ]
    }
   ],
   "source": [
    "!ls"
   ]
  },
  {
   "cell_type": "code",
   "execution_count": 13,
   "metadata": {
    "collapsed": true,
    "deletable": true,
    "editable": true
   },
   "outputs": [],
   "source": [
    "datos = pd.read_csv('data_org', delimiter=' ', sep = 's*',\n",
    "                   names = ['x', 'frec', 'frec_rel', 'frec_rel_por'],\n",
    "                   skiprows = 0)"
   ]
  },
  {
   "cell_type": "code",
   "execution_count": 14,
   "metadata": {
    "collapsed": false,
    "deletable": true,
    "editable": true
   },
   "outputs": [
    {
     "data": {
      "text/html": [
       "<div>\n",
       "<table border=\"1\" class=\"dataframe\">\n",
       "  <thead>\n",
       "    <tr style=\"text-align: right;\">\n",
       "      <th></th>\n",
       "      <th>x</th>\n",
       "      <th>frec</th>\n",
       "      <th>frec_rel</th>\n",
       "      <th>frec_rel_por</th>\n",
       "    </tr>\n",
       "  </thead>\n",
       "  <tbody>\n",
       "    <tr>\n",
       "      <th>0</th>\n",
       "      <td>1.0</td>\n",
       "      <td>3.0</td>\n",
       "      <td>0.048387</td>\n",
       "      <td>4.838710</td>\n",
       "    </tr>\n",
       "    <tr>\n",
       "      <th>1</th>\n",
       "      <td>2.0</td>\n",
       "      <td>15.0</td>\n",
       "      <td>0.241935</td>\n",
       "      <td>24.193548</td>\n",
       "    </tr>\n",
       "    <tr>\n",
       "      <th>2</th>\n",
       "      <td>3.0</td>\n",
       "      <td>17.0</td>\n",
       "      <td>0.274194</td>\n",
       "      <td>27.419355</td>\n",
       "    </tr>\n",
       "    <tr>\n",
       "      <th>3</th>\n",
       "      <td>4.0</td>\n",
       "      <td>16.0</td>\n",
       "      <td>0.258065</td>\n",
       "      <td>25.806452</td>\n",
       "    </tr>\n",
       "    <tr>\n",
       "      <th>4</th>\n",
       "      <td>5.0</td>\n",
       "      <td>11.0</td>\n",
       "      <td>0.177419</td>\n",
       "      <td>17.741935</td>\n",
       "    </tr>\n",
       "  </tbody>\n",
       "</table>\n",
       "</div>"
      ],
      "text/plain": [
       "     x  frec  frec_rel  frec_rel_por\n",
       "0  1.0   3.0  0.048387      4.838710\n",
       "1  2.0  15.0  0.241935     24.193548\n",
       "2  3.0  17.0  0.274194     27.419355\n",
       "3  4.0  16.0  0.258065     25.806452\n",
       "4  5.0  11.0  0.177419     17.741935"
      ]
     },
     "execution_count": 14,
     "metadata": {},
     "output_type": "execute_result"
    }
   ],
   "source": [
    "datos"
   ]
  },
  {
   "cell_type": "code",
   "execution_count": 15,
   "metadata": {
    "collapsed": false,
    "deletable": true,
    "editable": true
   },
   "outputs": [
    {
     "data": {
      "text/plain": [
       "x                15.0\n",
       "frec             62.0\n",
       "frec_rel          1.0\n",
       "frec_rel_por    100.0\n",
       "dtype: float64"
      ]
     },
     "execution_count": 15,
     "metadata": {},
     "output_type": "execute_result"
    }
   ],
   "source": [
    "datos.sum(0)"
   ]
  },
  {
   "cell_type": "markdown",
   "metadata": {},
   "source": [
    "Sólo para terminar , hagamos un histograma de frecuencias.."
   ]
  },
  {
   "cell_type": "code",
   "execution_count": 16,
   "metadata": {
    "collapsed": false,
    "deletable": true,
    "editable": true
   },
   "outputs": [
    {
     "data": {
      "image/png": "[encoded data removed]",
      "text/plain": [
       "<matplotlib.figure.Figure at 0x7ff9629900d0>"
      ]
     },
     "metadata": {},
     "output_type": "display_data"
    }
   ],
   "source": [
    "plt.figure(figsize=(10,8))\n",
    "plt.plot(datos['x'],datos['frec'],lw=0,marker='s',label='dispersion')\n",
    "plt.hist(data, bins='auto', label='Histograma')\n",
    "plt.legend()\n",
    "plt.xlabel('datos')\n",
    "plt.ylabel('frecuencias')\n",
    "plt.title(\"Histograma con 'auto' bins\")\n",
    "plt.show()"
   ]
  },
  {
   "cell_type": "code",
   "execution_count": null,
   "metadata": {
    "collapsed": true
   },
   "outputs": [],
   "source": []
  }
 ],
 "metadata": {
  "kernelspec": {
   "display_name": "Python 2",
   "language": "python",
   "name": "python2"
  },
  "language_info": {
   "codemirror_mode": {
    "name": "ipython",
    "version": 2
   },
   "file_extension": ".py",
   "mimetype": "text/x-python",
   "name": "python",
   "nbconvert_exporter": "python",
   "pygments_lexer": "ipython2",
   "version": "2.7.13"
  }
 },
 "nbformat": 4,
 "nbformat_minor": 2
}
